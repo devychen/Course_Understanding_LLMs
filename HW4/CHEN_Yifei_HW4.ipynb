{
 "cells": [
  {
   "cell_type": "markdown",
   "metadata": {},
   "source": [
    "Homework 4: LLM evaluation\n",
    "=====\n",
    "\n",
    "The third homework zooms in on evaluating LLMs, specifically, on the following skills: using log probabilities of string under a trained LM to evaluate it, coming up with items to test particular aspets of LLMs, and comparing LLM measures to measures of human performance.\n",
    "\n",
    "### Logistics\n",
    "\n",
    "* submission deadline: July 13th th 23:59 German time via Moodle\n",
    "  * please upload a **SINGLE .IPYNB FILE named Surname_FirstName_HW4.ipynb** containing your solutions of the homework. Make sure that your **plots** for the last exercise are either rendered in the notebook or submitted together with it in a zip file. \n",
    "* please solve and submit the homework **individually**! \n",
    "* if you use Colab, to speed up the execution of the code on Colab, you can use the available GPU (if Colab resources allow). For that, before executing your code, navigate to Runtime > Change runtime type > GPU > Save."
   ]
  },
  {
   "cell_type": "code",
   "execution_count": null,
   "metadata": {},
   "outputs": [],
   "source": [
    "##### HONOUR CODE #####\n",
    "# I received some help from Chi-Kuan Lai in debugging my codes."
   ]
  },
  {
   "cell_type": "markdown",
   "metadata": {},
   "source": [
    "## Exercise 1: Understanding grammatical capabilities of LLMs (10 points)\n",
    "\n",
    "In this task, we look at [BLiMP](https://aclanthology.org/2020.tacl-1.25/), the benchmark of linguistic minimal pairs. This is a well-known benchmark for evaluating linguistic capabilities of language models. It consists of 67 individual datasets, each containing 1,000 minimal pairs -- that is, pairs of minimally different sentences that contrast in grammatical acceptability and isolate specific phenomenon in syntax, morphology, or semantics. The authors suggest to use the benchmark to evaluate LMs by observing whether they assign a higher probability to the acceptable sentence in each minimal pair.\n",
    "\n",
    "> Your task is to evaluate an open-source model, [Pythia-160m](https://huggingface.co/EleutherAI/pythia-160m), on this benchmark by completing the code below. Based on your evaluation results, please answer the following questions.\n",
    "> Please use the following test suites to answer them: anaphor_gender_agreement, determiner_noun_agreement_with_adjective_1, animate_subject_passive, complex_NP_island, npi_present_1, superlative_quantifiers_1, existential_there_object_raising, principle_A_case_1.\n",
    "> \n",
    "> The entire benchmark can be found [here](https://huggingface.co/datasets/nyu-mll/blimp).\n",
    "> \n",
    "> 1. Plot the accuracy of the model on the different grammatical phenomena, represented in different test suites.\n",
    "> 2. Calculate the average accuracies and the confidence intervals in the different fields: syntax, morphology, syntax-semantics, semantics. Is the performance the same across the different fields? Which field is the most difficult one?\n",
    "> 3. What is the easiest grammatical phenomenon, what is the most difficult gramamtical phenomenon (as captured by the single test suites) for the model?"
   ]
  },
  {
   "cell_type": "markdown",
   "metadata": {},
   "source": [
    "## My answer\n",
    "1. See the plots below\n",
    "2. No, the performance are different across fields, with `syntax_semantics` being the most difficult one (it has the lowest accuracy as shown in the second plot).\n",
    "3. The easiest: `npi_present_1`, the most difficult: `principle_A_case1`"
   ]
  },
  {
   "cell_type": "code",
   "execution_count": 13,
   "metadata": {},
   "outputs": [],
   "source": [
    "# !pip install minicons\n",
    "from datasets import load_dataset\n",
    "import torch\n",
    "from minicons import scorer "
   ]
  },
  {
   "cell_type": "code",
   "execution_count": 14,
   "metadata": {},
   "outputs": [
    {
     "name": "stdout",
     "output_type": "stream",
     "text": [
      "cpu\n"
     ]
    }
   ],
   "source": [
    "import torch\n",
    "if torch.cuda.is_available():\n",
    "    device = torch.device('cuda')\n",
    "elif torch.backends.mps.is_available():\n",
    "    device = torch.device('mps')\n",
    "else:\n",
    "    device = torch.device('cpu')\n",
    "\n",
    "# print for sure\n",
    "print(device)"
   ]
  },
  {
   "cell_type": "code",
   "execution_count": 19,
   "metadata": {},
   "outputs": [
    {
     "data": {
      "text/plain": [
       "{'sentence_good': \"Katherine can't help herself.\",\n",
       " 'sentence_bad': \"Katherine can't help himself.\",\n",
       " 'field': 'morphology',\n",
       " 'linguistics_term': 'anaphor_agreement',\n",
       " 'UID': 'anaphor_gender_agreement',\n",
       " 'simple_LM_method': True,\n",
       " 'one_prefix_method': True,\n",
       " 'two_prefix_method': False,\n",
       " 'lexically_identical': False,\n",
       " 'pair_id': 0}"
      ]
     },
     "execution_count": 19,
     "metadata": {},
     "output_type": "execute_result"
    }
   ],
   "source": [
    "# iterate over the test suites \n",
    "\n",
    "#### YOUR CODE HERE ####\n",
    "\n",
    "test_suites = {\n",
    "    'anaphor_gender_agreement': 'morphology',\n",
    "    'determiner_noun_agreement_with_adjective_1': 'morphology',\n",
    "    'animate_subject_passive': 'syntax',\n",
    "    'complex_NP_island': 'syntax',\n",
    "    'npi_present_1': 'semantics',\n",
    "    'superlative_quantifiers_1': 'semantics',\n",
    "    'existential_there_object_raising': 'syntax_semantics',\n",
    "    'principle_A_case_1': 'syntax_semantics'\n",
    "}\n",
    "\n",
    "datasets = {}\n",
    "for test_suite in test_suites:\n",
    "    datasets[test_suite] = load_dataset(\"nyu-mll/blimp\", test_suite)  # Load dataset for each test suite\n",
    "\n",
    "# inspect the dataset\n",
    "datasets['anaphor_gender_agreement'][\"train\"][0]"
   ]
  },
  {
   "cell_type": "code",
   "execution_count": null,
   "metadata": {},
   "outputs": [
    {
     "data": {
      "application/vnd.jupyter.widget-view+json": {
       "model_id": "d9039874e227435e8db862747e83062d",
       "version_major": 2,
       "version_minor": 0
      },
      "text/plain": [
       "config.json:   0%|          | 0.00/569 [00:00<?, ?B/s]"
      ]
     },
     "metadata": {},
     "output_type": "display_data"
    },
    {
     "data": {
      "application/vnd.jupyter.widget-view+json": {
       "model_id": "d4ef716f3cf248f6870b0e5984037222",
       "version_major": 2,
       "version_minor": 0
      },
      "text/plain": [
       "config.json:   0%|          | 0.00/569 [00:00<?, ?B/s]"
      ]
     },
     "metadata": {},
     "output_type": "display_data"
    },
    {
     "data": {
      "application/vnd.jupyter.widget-view+json": {
       "model_id": "9f77273502fd49dd8eaa4f6b3518d216",
       "version_major": 2,
       "version_minor": 0
      },
      "text/plain": [
       "model.safetensors:   0%|          | 0.00/375M [00:00<?, ?B/s]"
      ]
     },
     "metadata": {},
     "output_type": "display_data"
    }
   ],
   "source": [
    "# iterate over the single items of the test suite\n",
    "# hint: you can use code similar to the one in sheet 7.1 \n",
    "\n",
    "# set up the model as a minicons scorer \n",
    "lm_scorer = scorer.IncrementalLMScorer(\n",
    "    ### YOUR CODE HERE ###\n",
    "    \"EleutherAI/pythia-160m\", \n",
    "    device=device,\n",
    "    force_download=True\n",
    ")\n",
    "\n",
    "# create some lists to store the results\n",
    "### YOUR CODE HERE ###\n",
    "def compute_accuracy(dataset, result):\n",
    "    correct_predictions = 0\n",
    "    total_predictions = 0\n",
    "\n",
    "    for item in dataset[\"train\"]:\n",
    "        # get the sentence pair\n",
    "        ### YOUR CODE HERE ###\n",
    "        good_sent = item[\"sentence_good\"]\n",
    "        bad_sent = item[\"sentence_bad\"]\n",
    "        \n",
    "        # Compare the sentences as suggested in the task description\n",
    "        ### YOUR CODE HERE ###\n",
    "        \n",
    "        answer_scores = lm_scorer.conditional_score(\n",
    "            [good_sent, bad_sent], \n",
    "            [\"\", \"\"] # reformat Qs into a list\n",
    "        ) \n",
    "        \n",
    "        if answer_scores[0] > answer_scores[1]:\n",
    "            correct_predictions += 1\n",
    "        total_predictions += 1\n",
    "    \n",
    "    accuracy = correct_predictions / total_predictions\n",
    "    return accuracy, correct_predictions, total_predictions"
   ]
  },
  {
   "cell_type": "code",
   "execution_count": 33,
   "metadata": {
    "scrolled": true
   },
   "outputs": [],
   "source": [
    "# import pkgs for graphs\n",
    "# !pip install statsmodels\n",
    "import matplotlib.pyplot as plt \n",
    "from statsmodels.stats.proportion import proportion_confint\n",
    "import numpy as np"
   ]
  },
  {
   "cell_type": "code",
   "execution_count": 40,
   "metadata": {},
   "outputs": [
    {
     "data": {
      "image/png": "[encoded data removed]",
      "text/plain": [
       "<Figure size 1000x500 with 1 Axes>"
      ]
     },
     "metadata": {},
     "output_type": "display_data"
    }
   ],
   "source": [
    "# calculate the performance by test suite\n",
    "### YOUR CODE HERE ###\n",
    "\n",
    "# Performance evaluation for each test suite\n",
    "performance_data = {suite_name: compute_accuracy(data, scorer) for suite_name, data in datasets.items()}\n",
    "\n",
    "# Performance aggregation by category\n",
    "categories_list = ['morphology', 'syntax', 'semantics', 'syntax_semantics']\n",
    "category_summary = {cat: {'correct_count': 0, 'total_count': 0} for cat in categories_list}\n",
    "\n",
    "for suite_name, (accuracy, correct_count, total_count) in performance_data.items():\n",
    "    suite_category = test_suites[suite_name]\n",
    "    category_summary[suite_category]['correct_count'] += correct_count\n",
    "    category_summary[suite_category]['total_count'] += total_count\n",
    "\n",
    "# Calculate accuracy and confidence intervals for each category\n",
    "accuracy_values = []\n",
    "confidence_intervals_lower = []\n",
    "confidence_intervals_upper = []\n",
    "\n",
    "for cat in categories_list:\n",
    "    correct_count = category_summary[cat]['correct_count']\n",
    "    total_count = category_summary[cat]['total_count']\n",
    "    accuracy = correct_count / total_count\n",
    "    accuracy_values.append(accuracy)\n",
    "\n",
    "    # Confidence interval calculation\n",
    "    ci_lower, ci_upper = proportion_confint(correct_count, total_count, alpha=0.05, method='normal')\n",
    "    confidence_intervals_lower.append(ci_lower)\n",
    "    confidence_intervals_upper.append(ci_upper)\n",
    "\n",
    "# Visualizing the results with a bar chart\n",
    "suite_names = list(performance_data.keys())\n",
    "suite_accuracies = [acc for acc, _, _ in performance_data.values()]\n",
    "figure = plt.figure(figsize=(10, 5))\n",
    "\n",
    "# Creating the bar chart\n",
    "plt.bar(suite_names, suite_accuracies, \n",
    "        color='lightblue', \n",
    "        width=0.4)\n",
    "\n",
    "plt.xlabel(\"Test Suites\")\n",
    "plt.ylabel(\"Accuracy\")\n",
    "plt.title(\"Performance Across Test Suites\")\n",
    "plt.xticks(rotation=45, fontsize=8)  # Adjust x-ticks fontsize and rotation if needed\n",
    "plt.tight_layout()  # Adjust layout to prevent overlap\n",
    "plt.show()"
   ]
  },
  {
   "cell_type": "code",
   "execution_count": 62,
   "metadata": {},
   "outputs": [
    {
     "data": {
      "image/png": "[encoded data removed]",
      "text/plain": [
       "<Figure size 1000x500 with 1 Axes>"
      ]
     },
     "metadata": {},
     "output_type": "display_data"
    }
   ],
   "source": [
    "# calculate the performance as described above by category and plot the results in a bar plot with CIs\n",
    "### YOUR CODE HERE ###\n",
    "\n",
    "# figute size\n",
    "fig = plt.figure(figsize = (10, 5))\n",
    "\n",
    "# plot creating\n",
    "plt.bar(categories_list, accuracy_values, \n",
    "        color ='lightblue', \n",
    "        width = 0.2, \n",
    "        yerr = [np.array(accuracy_values) - np.array(confidence_intervals_lower), \n",
    "                np.array(confidence_intervals_upper) - np.array(accuracy_values)],\n",
    "        capsize = 5)\n",
    "\n",
    "plt.xlabel(\"Category\")\n",
    "plt.ylabel(\"Accuracy\")\n",
    "plt.title(\"Performance Across Test Suites\")\n",
    "plt.show()"
   ]
  },
  {
   "cell_type": "markdown",
   "metadata": {},
   "source": [
    "## Exercise 2: Evaluating societal biases (13 points)"
   ]
  },
  {
   "cell_type": "markdown",
   "metadata": {},
   "source": [
    "In this exercise, we will consider aspects of LLM performance which may have social implications and that are deeply interconnected with how humans use language. This task evaluates whether LLMs overrepresent certain cultures over others, which could be due to, e.g., imbalances over training data sources and languages.\n",
    "\n",
    "> Specifically, your task is to come up with an appropriate test item and evaluate whether LLMs exhibit certain cultural biases. \n",
    "> In this task, you have to construct your own multiple-choice test item for investigating cultural biases of LLMs, where, given a context, the different available response / continuation options would reflect preferences for responses typical for different cultures. \n",
    "> For instance, one response could be more acceptable under one particular cultural lense and another response under a different cultural background. \n",
    "> Your task is then to evaluate the performance of two LLMs: the mostly monolingual `gpt2` and the multilingual `bigscience/bloom-560m` model. The second part of the task is to compelte the evaluation code and interpret the results by answering the question below.\n",
    "\n",
    "\n",
    "Here is a simple example of a test item. More explanations are in parentheses. You should provide analogous explanations in the answers to the questions below, but not pass these to the LLMs during evaluations.\n",
    "\n",
    "\n",
    "Context 1: You are at a German supermarket. You walk up to the cashier and greet them by saying:\n",
    "\n",
    "Context 2: You are at an American supermarket. You walk up to the cashier and greet them by saying:\n",
    "\n",
    "A. Hello. (intuititvely, more likely in to be appropiate in the Germany context condition)\n",
    "\n",
    "B. Bye. (a generally inappropriate response)\n",
    "\n",
    "C. Hello, how are you? (intuitively, more likely to be appropriate in the US context condition; people usually don’t ask strangers ‘how are you’ in Germany)\n",
    "\n",
    "I would say: (insert each of the answer options separately here and calculate their log probability, given each of the contexts).\n"
   ]
  },
  {
   "cell_type": "markdown",
   "metadata": {},
   "source": [
    "For reference about constructing datasets and inspiration, feel free to take a look at the [ETHICS dataset](https://arxiv.org/pdf/2008.02275), e.g., Fig. 2, where the authors came up with different continuations tapping into different conditions, given a context.\n",
    "\n",
    "> **Fill in your responses below.**\n",
    ">\n",
    "> 1. Your prompt (with explanations of the intuitive differences for each response option in respective cultural variations): <br>\n",
    ">  **Answer**: <br>\n",
    "> - Context 1: You are shopping with a German friend and just tried on new clothes. You want to know your friend's opinion on the outfit. And your friend said:\n",
    "> - Context 2: You are shopping with a American friend and just tried on new clothes. You want to know your friend's opinion on the outfit. And your friend said:\n",
    "> - Options\n",
    ">   - A. \"It looks bad, and not suitable for most daily occasions\" (DE. More likely to be direct and value the practicality)\n",
    ">   - B. \"You look ugly\". (generally inappropriate, as it’s seen as impolite)\n",
    ">   - C. \"Are you kidding? You look amazing!\". (USA. More cheeringful and encouraging)\n",
    ">\n",
    "> \n",
    "> 2. Your model log probabilities (table cells are examples, please fill in with your respective item):\n",
    ">\n",
    "| Context / Option | GPT-2 | Bloom |\n",
    "|------------------|-------|-------|\n",
    "| Germany + A      | -14.465622  | -14.311432 |\n",
    "| USA + A          | -15.856544  | -15.430267 |\n",
    "| Germany + B          | -13.668892  | -13.339478 |\n",
    "| USA + B      | -14.285263  | -13.875671 |\n",
    "| Germany +c      | -11.627052  | -11.877838 |\n",
    "| USA + C        |  -11.876839     |   -12.287628    |\n",
    "\n",
    "> 3. Do the models show a preference for a particular cultural setting? Is there evidence for whether cultural biases might be caused by training data? <br>\n",
    ">   **Answer**: No, no preference as the scores are pretty similar.\n",
    "> 4. Are there aspects of the prompt that might influence your results? Please provide a brief justification / example why (not). <br>\n",
    ">   **Answer**: As culture bias is a broad term, maybe including descriptions on cultural difference could help. For example, in each context includes information such as German people generally values practicality while USA people tend to value feelings or emotions more."
   ]
  },
  {
   "cell_type": "code",
   "execution_count": 36,
   "metadata": {},
   "outputs": [],
   "source": [
    "from minicons import scorer \n",
    "import pandas as pd"
   ]
  },
  {
   "cell_type": "code",
   "execution_count": 37,
   "metadata": {},
   "outputs": [],
   "source": [
    "import torch\n",
    "if torch.cuda.is_available():\n",
    "    device = torch.device('cuda')\n",
    "elif torch.backends.mps.is_available():\n",
    "    device = torch.device(\"mps\")\n",
    "else:\n",
    "    device = torch.device('cpu')"
   ]
  },
  {
   "cell_type": "code",
   "execution_count": 48,
   "metadata": {},
   "outputs": [
    {
     "name": "stderr",
     "output_type": "stream",
     "text": [
      "/Library/Frameworks/Python.framework/Versions/3.11/lib/python3.11/site-packages/huggingface_hub/file_download.py:1132: FutureWarning: `resume_download` is deprecated and will be removed in version 1.0.0. Downloads always resume when possible. If you want to force a new download, use `force_download=True`.\n",
      "  warnings.warn(\n"
     ]
    },
    {
     "name": "stdout",
     "output_type": "stream",
     "text": [
      "       Context      GPT-2      Bloom\n",
      "0  Germany + A -14.465622 -14.311432\n",
      "1  Germany + B -13.668892 -13.339478\n",
      "2  Germany + C -11.627052 -11.877838\n",
      "3      USA + A -15.856544 -15.430267\n",
      "4      USA + B -14.285263 -13.875671\n",
      "5      USA + C -11.876839 -12.287628\n"
     ]
    }
   ],
   "source": [
    "# set up a scorer \n",
    "gpt2_scorer = scorer.IncrementalLMScorer(\n",
    "    \"gpt2\", device=device\n",
    ")\n",
    "\n",
    "bloom_scorer = scorer.IncrementalLMScorer(\n",
    "    \"bigscience/bloom-560m\", device=device\n",
    ")\n",
    "\n",
    "# initialize list for storing the predictions\n",
    "gpt2_predictions = []\n",
    "bloom_predictions = []\n",
    "\n",
    "answer_keys = [\"ger\", \"nonsense\", \"us\"]\n",
    "\n",
    "# format / provide the possible answer options from your vignette\n",
    "ger = \"It looks bad, and not suitable for most daily occasions\"\n",
    "nonsense = \"You look ugly.\"\n",
    "us = \"Are you kidding? You look amazing!\"\n",
    "\n",
    "# answer options\n",
    "contexts = [\n",
    "    \"You are shopping with a German friend and just tried on new clothes. You want to know your friend's opinion on the outfit. And your friend said:\",\n",
    "    \"You are shopping with an American friend and just tried on new clothes. You want to know your friend's opinion on the outfit. And your friend said:\"\n",
    "]\n",
    "\n",
    "# iterate over contexts\n",
    "for context in contexts:\n",
    "    # pass a list of contexts and a list of continuations to be scored\n",
    "    context_list = [context] * len(answer_keys)\n",
    "    \n",
    "    answer_scores_gpt2 = gpt2_scorer.conditional_score(\n",
    "        context_list, answer_keys\n",
    "    )\n",
    "    gpt2_predictions.append(answer_scores_gpt2)\n",
    "\n",
    "    # score for bloom\n",
    "    answer_scores_bloom = bloom_scorer.conditional_score(\n",
    "        context_list, answer_keys\n",
    "    )\n",
    "    bloom_predictions.append(answer_scores_bloom)  # Fixed here\n",
    "\n",
    "# check / inspect which answer has the highest score and which answer type (i.e., \"culture\") it corresponds to\n",
    "labels = ['Germany + A', 'Germany + B', 'Germany + C', 'USA + A', 'USA + B', 'USA + C']\n",
    "gpt2_flat_predictions = [score for sublist in gpt2_predictions for score in sublist]\n",
    "bloom_flat_predictions = [score for sublist in bloom_predictions for score in sublist]\n",
    "\n",
    "# Ensure the lengths match before creating the DataFrame\n",
    "if len(gpt2_flat_predictions) == len(bloom_flat_predictions) == len(labels):\n",
    "    df = pd.DataFrame({\n",
    "        'Context': labels,\n",
    "        'GPT-2': gpt2_flat_predictions,\n",
    "        'Bloom': bloom_flat_predictions\n",
    "    })\n",
    "    print(df)\n",
    "else:\n",
    "    print(\"Length mismatch: GPT-2 predictions, Bloom predictions, and labels must all have the same length.\")\n"
   ]
  },
  {
   "cell_type": "markdown",
   "metadata": {},
   "source": [
    "## Exercise 3: LLM evaluations with LLMs (5 points)\n",
    "\n",
    "Building on the in-context learning capabilities of LLMs,, recent work, e.g., by [Perez et al (2022)](https://arxiv.org/abs/2212.09251), has been *using LLMs to generate evaluation datasets for LLMs*. \n",
    "\n",
    "> Your task here is to: \n",
    "> 1. write a pseudo-algorithm for generating more cultural bias evaluation items. The items should be of a similar structure as in the task above. Write maximally 5 steps. (Hint: feel free to try to elicit e.g. 10 different item with a model of your choice)\n",
    "> 2. What could be possible concerns with this approach? Name and briefly explain 2."
   ]
  },
  {
   "cell_type": "markdown",
   "metadata": {},
   "source": [
    "### My answer:\n",
    "*If I understand correctly, just descibing the how-to steps?*\n",
    "\n",
    "#### Psedo-algorithm\n",
    "- Step 1: **Set up the context**: identify two distinct cultural contexts that relfects the language use.\n",
    "- Step 2: **Generate options**: For each contexts, use language models to generate relevant multiple options. One appropriate response for each culture, and an inappropriate one for both.\n",
    "- Step 3: **Format the test item**: Write clear prompts and options\n",
    "- Step 4: **Evaluate and iterate**: Run the test items through LLMs.\n",
    "\n",
    "#### Concerns:\n",
    "- Stereotypes: The stereotypes might be reinforce unintentionally.\n",
    "- Bias: If the data trained on is already biased, then there might be overfitting issue."
   ]
  },
  {
   "cell_type": "markdown",
   "metadata": {},
   "source": [
    "## Exercise 4: How human-like are Llama's surprisals? (22 points)"
   ]
  },
  {
   "cell_type": "markdown",
   "metadata": {},
   "source": [
    "More recently, work more informed by human language use and processing has compared LLMs’ performance to aspects of human behavior. Here, the assessment of LLMs is guided more by the question of how human-like certain aspects of its performance are. For instance, we might whether LLMs' 'knowledge' of language is comparable to human knowledge, and, in particular, whether the processing of language, given the knowledge , can be compared via system-appropriate linking measurements.\n",
    "\n",
    "Your task in this exercise is to assess whether the *surprisal* of different language models is comparable to human *reading times*, when it comes to processing subject-verb agreement. The linking hypothesis is that these can be considered the respective predictability, and therefore, processing load indicators.\n",
    "The conceptual ideas and the data are taken from [Wilcox et al. (2021)](https://arxiv.org/pdf/2106.03232) which was discussed in the lecture. Please read the sections 1-2.2 for the background (optionally, the rest, if you want).\n",
    "The data can be downloaded [here](https://github.com/CogSciPrag/Understanding-LLMs-course/tree/main/understanding-llms/homework/data/SVA_data.csv).\n",
    "\n",
    "The data provides human RTs and LM surprisals in different conditions for sentences where the subject and the verb either match (i.e., agree) or mismatch in terms of number. This is the main condition. Furthermore, the agreement manipulation occurs in different syntactic conditions, and for plural and singular nouns. Here are examples from the different syntactic conditions:\n",
    "* SRC (subject relative clause modifier):\n",
    "  * mismatch plural: The pilots that injured the teacher brings love to people.\n",
    "  * match plural: The pilots that injured the teacher bring love to people.\n",
    "* ORC (object relative clause modifier):\n",
    "  * mismatch plural: The ministers that the manager injured knows tennis.\n",
    "  * match plural: The ministers that the manager injured know tennis.\n",
    "* PP (prepositional phrase modifier):\n",
    "  * mismatch plural: The executives next to the teacher is good.\n",
    "  * match plural: The executives next to the teacher are good.\n",
    "\n",
    "The prediction is that humans and models should have difficulty processing the mismatched noun, both in the singular and the plural condition.\n",
    "\n",
    "> Your task is to complete / provide the following code and answer the following questions:\n",
    "> 1. Formulate a quantitatively testable hypothesis operationalizing the prediction above. I.e., formulate something like: if the prediction is true, X should be larger than Y.\n",
    "> 2. Provide respective examples for the singular condition.\n",
    "> 3. Inspect the data. What are the units of the provided results?<br>\n",
    "> **Answer** <br> Please see the output.\n",
    "> 4. Based on your hypothesis above, for each trial, calculate whether it holds or not. Plot the proportion of trials where your hypothesis is borne out (i.e, the accuracy), for humans and each model, in the singular and the plural condition. (Hint: use a barplot)\n",
    "> 5. Based on visual inspection, does any model match human performance? <br>\n",
    "> **Answer** <br>\n",
    "> Unfortunately no.\n",
    ">\n",
    "> 6. Is either of the number conditions more difficult to process for humans or LMs? <br>\n",
    "> **Answer** <br>\n",
    "> For humans: singular. For LMs: plural.\n",
    ">\n",
    "> 8. Select the results for Llama and humans only. Is the processing 'difficulty' of Llama correlated with the processing slowdown of humans (across singular / plural conditions)? Interpret the correlation coefficient. <br>\n",
    "> **Answer** <br>\n",
    "> Not it is not. The correlation coeffiency reveals a weak relationship that is not significant: The Pearson correlation coefficients are around 0.053 (p = 0.746) and 0.139 (p = 0.392), indicating a lack of significant correlation."
   ]
  },
  {
   "cell_type": "code",
   "execution_count": 49,
   "metadata": {},
   "outputs": [],
   "source": [
    "# Just make sure pkgs are installed and imported\n",
    "import pandas as pd\n",
    "import matplotlib.pyplot as plt\n",
    "import seaborn as sns\n",
    "from scipy.stats import pearsonr"
   ]
  },
  {
   "cell_type": "code",
   "execution_count": 53,
   "metadata": {
    "scrolled": true
   },
   "outputs": [
    {
     "name": "stdout",
     "output_type": "stream",
     "text": [
      "Unexpected exception formatting exception. Falling back to standard exception\n"
     ]
    },
    {
     "name": "stderr",
     "output_type": "stream",
     "text": [
      "Traceback (most recent call last):\n",
      "  File \"/Library/Frameworks/Python.framework/Versions/3.11/lib/python3.11/site-packages/IPython/core/formatters.py\", line 223, in catch_format_error\n",
      "    r = method(self, *args, **kwargs)\n",
      "        ^^^^^^^^^^^^^^^^^^^^^^^^^^^^^\n",
      "  File \"/Library/Frameworks/Python.framework/Versions/3.11/lib/python3.11/site-packages/IPython/core/formatters.py\", line 344, in __call__\n",
      "    return method()\n",
      "           ^^^^^^^^\n",
      "  File \"/Library/Frameworks/Python.framework/Versions/3.11/lib/python3.11/site-packages/pandas/core/frame.py\", line 1175, in _repr_html_\n",
      "    else:\n",
      "          \n",
      "  File \"/Library/Frameworks/Python.framework/Versions/3.11/lib/python3.11/site-packages/pandas/io/formats/format.py\", line 1074, in to_html\n",
      "  File \"/Library/Frameworks/Python.framework/Versions/3.11/lib/python3.11/site-packages/pandas/io/formats/html.py\", line 88, in to_string\n",
      "    lines = self.render()\n",
      "            ^^^^^^^^^^^^^\n",
      "  File \"/Library/Frameworks/Python.framework/Versions/3.11/lib/python3.11/site-packages/pandas/io/formats/html.py\", line 644, in render\n",
      "    super().render()\n",
      "  File \"/Library/Frameworks/Python.framework/Versions/3.11/lib/python3.11/site-packages/pandas/io/formats/html.py\", line 94, in render\n",
      "    self._write_table()\n",
      "  File \"/Library/Frameworks/Python.framework/Versions/3.11/lib/python3.11/site-packages/pandas/io/formats/html.py\", line 267, in _write_table\n",
      "    self._write_header(indent + self.indent_delta)\n",
      "  File \"/Library/Frameworks/Python.framework/Versions/3.11/lib/python3.11/site-packages/pandas/io/formats/html.py\", line 403, in _write_header\n",
      "    self._write_col_header(indent + self.indent_delta)\n",
      "  File \"/Library/Frameworks/Python.framework/Versions/3.11/lib/python3.11/site-packages/pandas/io/formats/html.py\", line 383, in _write_col_header\n",
      "    row.extend(self._get_columns_formatted_values())\n",
      "               ^^^^^^^^^^^^^^^^^^^^^^^^^^^^^^^^^^^^\n",
      "  File \"/Library/Frameworks/Python.framework/Versions/3.11/lib/python3.11/site-packages/pandas/io/formats/html.py\", line 611, in _get_columns_formatted_values\n",
      "    return self.columns._format_flat(include_name=False)\n",
      "           ^^^^^^^^^^^^^^^^^^^^^^^^^\n",
      "AttributeError: 'Index' object has no attribute '_format_flat'\n",
      "\n",
      "During handling of the above exception, another exception occurred:\n",
      "\n",
      "Traceback (most recent call last):\n",
      "  File \"/Library/Frameworks/Python.framework/Versions/3.11/lib/python3.11/site-packages/IPython/core/interactiveshell.py\", line 2142, in showtraceback\n",
      "    stb = self.InteractiveTB.structured_traceback(\n",
      "          ^^^^^^^^^^^^^^^^^^^^^^^^^^^^^^^^^^^^^^^^\n",
      "  File \"/Library/Frameworks/Python.framework/Versions/3.11/lib/python3.11/site-packages/IPython/core/ultratb.py\", line 1435, in structured_traceback\n",
      "    return FormattedTB.structured_traceback(\n",
      "           ^^^^^^^^^^^^^^^^^^^^^^^^^^^^^^^^^\n",
      "  File \"/Library/Frameworks/Python.framework/Versions/3.11/lib/python3.11/site-packages/IPython/core/ultratb.py\", line 1326, in structured_traceback\n",
      "    return VerboseTB.structured_traceback(\n",
      "           ^^^^^^^^^^^^^^^^^^^^^^^^^^^^^^^\n",
      "  File \"/Library/Frameworks/Python.framework/Versions/3.11/lib/python3.11/site-packages/IPython/core/ultratb.py\", line 1173, in structured_traceback\n",
      "    formatted_exception = self.format_exception_as_a_whole(etype, evalue, etb, number_of_lines_of_context,\n",
      "                          ^^^^^^^^^^^^^^^^^^^^^^^^^^^^^^^^^^^^^^^^^^^^^^^^^^^^^^^^^^^^^^^^^^^^^^^^^^^^^^^^\n",
      "  File \"/Library/Frameworks/Python.framework/Versions/3.11/lib/python3.11/site-packages/IPython/core/ultratb.py\", line 1088, in format_exception_as_a_whole\n",
      "    frames.append(self.format_record(record))\n",
      "                  ^^^^^^^^^^^^^^^^^^^^^^^^^^\n",
      "  File \"/Library/Frameworks/Python.framework/Versions/3.11/lib/python3.11/site-packages/IPython/core/ultratb.py\", line 970, in format_record\n",
      "    frame_info.lines, Colors, self.has_colors, lvals\n",
      "    ^^^^^^^^^^^^^^^^\n",
      "  File \"/Library/Frameworks/Python.framework/Versions/3.11/lib/python3.11/site-packages/IPython/core/ultratb.py\", line 792, in lines\n",
      "    return self._sd.lines\n",
      "           ^^^^^^^^^^^^^^\n",
      "  File \"/Library/Frameworks/Python.framework/Versions/3.11/lib/python3.11/site-packages/stack_data/utils.py\", line 145, in cached_property_wrapper\n",
      "    value = obj.__dict__[self.func.__name__] = self.func(obj)\n",
      "                                               ^^^^^^^^^^^^^^\n",
      "  File \"/Library/Frameworks/Python.framework/Versions/3.11/lib/python3.11/site-packages/stack_data/core.py\", line 734, in lines\n",
      "    pieces = self.included_pieces\n",
      "             ^^^^^^^^^^^^^^^^^^^^\n",
      "  File \"/Library/Frameworks/Python.framework/Versions/3.11/lib/python3.11/site-packages/stack_data/utils.py\", line 145, in cached_property_wrapper\n",
      "    value = obj.__dict__[self.func.__name__] = self.func(obj)\n",
      "                                               ^^^^^^^^^^^^^^\n",
      "  File \"/Library/Frameworks/Python.framework/Versions/3.11/lib/python3.11/site-packages/stack_data/core.py\", line 681, in included_pieces\n",
      "    pos = scope_pieces.index(self.executing_piece)\n",
      "                             ^^^^^^^^^^^^^^^^^^^^\n",
      "  File \"/Library/Frameworks/Python.framework/Versions/3.11/lib/python3.11/site-packages/stack_data/utils.py\", line 145, in cached_property_wrapper\n",
      "    value = obj.__dict__[self.func.__name__] = self.func(obj)\n",
      "                                               ^^^^^^^^^^^^^^\n",
      "  File \"/Library/Frameworks/Python.framework/Versions/3.11/lib/python3.11/site-packages/stack_data/core.py\", line 660, in executing_piece\n",
      "    return only(\n",
      "           ^^^^^\n",
      "  File \"/Library/Frameworks/Python.framework/Versions/3.11/lib/python3.11/site-packages/executing/executing.py\", line 116, in only\n",
      "    raise NotOneValueFound('Expected one value, found 0')\n",
      "executing.executing.NotOneValueFound: Expected one value, found 0\n"
     ]
    },
    {
     "data": {
      "text/plain": [
       "      suite  region_number group  model  match_plural  match_sing  mismatch_plural  mismatch_sing\n",
       "0  SVNA-orc              7  1010   gpt2      7.740553    7.936675        11.336713       8.637131\n",
       "1  SVNA-orc              7  1010   grnn      5.123765    4.921309         5.999019       7.279292\n",
       "2  SVNA-orc              7  1010  human    633.333333  914.000000       733.000000    1012.125000\n",
       "3  SVNA-orc              7  1010   jrnn      4.376238    4.826594         6.055298       6.815393\n",
       "4  SVNA-orc              7  1010  llama      5.940623    5.992930        10.196010      10.679944"
      ]
     },
     "execution_count": 53,
     "metadata": {},
     "output_type": "execute_result"
    }
   ],
   "source": [
    "df = pd.read_csv(\"/Users/ychen/Notes-ULLM/HW4/SVA_data.csv\")\n",
    "df.head()"
   ]
  },
  {
   "cell_type": "code",
   "execution_count": 58,
   "metadata": {},
   "outputs": [
    {
     "name": "stdout",
     "output_type": "stream",
     "text": [
      "Unexpected exception formatting exception. Falling back to standard exception\n"
     ]
    },
    {
     "name": "stderr",
     "output_type": "stream",
     "text": [
      "Traceback (most recent call last):\n",
      "  File \"/Library/Frameworks/Python.framework/Versions/3.11/lib/python3.11/site-packages/IPython/core/formatters.py\", line 223, in catch_format_error\n",
      "    r = method(self, *args, **kwargs)\n",
      "        ^^^^^^^^^^^^^^^^^^^^^^^^^^^^^\n",
      "  File \"/Library/Frameworks/Python.framework/Versions/3.11/lib/python3.11/site-packages/IPython/core/formatters.py\", line 344, in __call__\n",
      "    return method()\n",
      "           ^^^^^^^^\n",
      "  File \"/Library/Frameworks/Python.framework/Versions/3.11/lib/python3.11/site-packages/pandas/core/frame.py\", line 1175, in _repr_html_\n",
      "    else:\n",
      "          \n",
      "  File \"/Library/Frameworks/Python.framework/Versions/3.11/lib/python3.11/site-packages/pandas/io/formats/format.py\", line 1074, in to_html\n",
      "  File \"/Library/Frameworks/Python.framework/Versions/3.11/lib/python3.11/site-packages/pandas/io/formats/html.py\", line 88, in to_string\n",
      "    lines = self.render()\n",
      "            ^^^^^^^^^^^^^\n",
      "  File \"/Library/Frameworks/Python.framework/Versions/3.11/lib/python3.11/site-packages/pandas/io/formats/html.py\", line 644, in render\n",
      "    super().render()\n",
      "  File \"/Library/Frameworks/Python.framework/Versions/3.11/lib/python3.11/site-packages/pandas/io/formats/html.py\", line 94, in render\n",
      "    self._write_table()\n",
      "  File \"/Library/Frameworks/Python.framework/Versions/3.11/lib/python3.11/site-packages/pandas/io/formats/html.py\", line 267, in _write_table\n",
      "    self._write_header(indent + self.indent_delta)\n",
      "  File \"/Library/Frameworks/Python.framework/Versions/3.11/lib/python3.11/site-packages/pandas/io/formats/html.py\", line 403, in _write_header\n",
      "    self._write_col_header(indent + self.indent_delta)\n",
      "  File \"/Library/Frameworks/Python.framework/Versions/3.11/lib/python3.11/site-packages/pandas/io/formats/html.py\", line 383, in _write_col_header\n",
      "    row.extend(self._get_columns_formatted_values())\n",
      "               ^^^^^^^^^^^^^^^^^^^^^^^^^^^^^^^^^^^^\n",
      "  File \"/Library/Frameworks/Python.framework/Versions/3.11/lib/python3.11/site-packages/pandas/io/formats/html.py\", line 611, in _get_columns_formatted_values\n",
      "    return self.columns._format_flat(include_name=False)\n",
      "           ^^^^^^^^^^^^^^^^^^^^^^^^^\n",
      "AttributeError: 'Index' object has no attribute '_format_flat'\n",
      "\n",
      "During handling of the above exception, another exception occurred:\n",
      "\n",
      "Traceback (most recent call last):\n",
      "  File \"/Library/Frameworks/Python.framework/Versions/3.11/lib/python3.11/site-packages/IPython/core/interactiveshell.py\", line 2142, in showtraceback\n",
      "    stb = self.InteractiveTB.structured_traceback(\n",
      "          ^^^^^^^^^^^^^^^^^^^^^^^^^^^^^^^^^^^^^^^^\n",
      "  File \"/Library/Frameworks/Python.framework/Versions/3.11/lib/python3.11/site-packages/IPython/core/ultratb.py\", line 1435, in structured_traceback\n",
      "    return FormattedTB.structured_traceback(\n",
      "           ^^^^^^^^^^^^^^^^^^^^^^^^^^^^^^^^^\n",
      "  File \"/Library/Frameworks/Python.framework/Versions/3.11/lib/python3.11/site-packages/IPython/core/ultratb.py\", line 1326, in structured_traceback\n",
      "    return VerboseTB.structured_traceback(\n",
      "           ^^^^^^^^^^^^^^^^^^^^^^^^^^^^^^^\n",
      "  File \"/Library/Frameworks/Python.framework/Versions/3.11/lib/python3.11/site-packages/IPython/core/ultratb.py\", line 1173, in structured_traceback\n",
      "    formatted_exception = self.format_exception_as_a_whole(etype, evalue, etb, number_of_lines_of_context,\n",
      "                          ^^^^^^^^^^^^^^^^^^^^^^^^^^^^^^^^^^^^^^^^^^^^^^^^^^^^^^^^^^^^^^^^^^^^^^^^^^^^^^^^\n",
      "  File \"/Library/Frameworks/Python.framework/Versions/3.11/lib/python3.11/site-packages/IPython/core/ultratb.py\", line 1088, in format_exception_as_a_whole\n",
      "    frames.append(self.format_record(record))\n",
      "                  ^^^^^^^^^^^^^^^^^^^^^^^^^^\n",
      "  File \"/Library/Frameworks/Python.framework/Versions/3.11/lib/python3.11/site-packages/IPython/core/ultratb.py\", line 970, in format_record\n",
      "    frame_info.lines, Colors, self.has_colors, lvals\n",
      "    ^^^^^^^^^^^^^^^^\n",
      "  File \"/Library/Frameworks/Python.framework/Versions/3.11/lib/python3.11/site-packages/IPython/core/ultratb.py\", line 792, in lines\n",
      "    return self._sd.lines\n",
      "           ^^^^^^^^^^^^^^\n",
      "  File \"/Library/Frameworks/Python.framework/Versions/3.11/lib/python3.11/site-packages/stack_data/utils.py\", line 145, in cached_property_wrapper\n",
      "    value = obj.__dict__[self.func.__name__] = self.func(obj)\n",
      "                                               ^^^^^^^^^^^^^^\n",
      "  File \"/Library/Frameworks/Python.framework/Versions/3.11/lib/python3.11/site-packages/stack_data/core.py\", line 734, in lines\n",
      "    pieces = self.included_pieces\n",
      "             ^^^^^^^^^^^^^^^^^^^^\n",
      "  File \"/Library/Frameworks/Python.framework/Versions/3.11/lib/python3.11/site-packages/stack_data/utils.py\", line 145, in cached_property_wrapper\n",
      "    value = obj.__dict__[self.func.__name__] = self.func(obj)\n",
      "                                               ^^^^^^^^^^^^^^\n",
      "  File \"/Library/Frameworks/Python.framework/Versions/3.11/lib/python3.11/site-packages/stack_data/core.py\", line 681, in included_pieces\n",
      "    pos = scope_pieces.index(self.executing_piece)\n",
      "                             ^^^^^^^^^^^^^^^^^^^^\n",
      "  File \"/Library/Frameworks/Python.framework/Versions/3.11/lib/python3.11/site-packages/stack_data/utils.py\", line 145, in cached_property_wrapper\n",
      "    value = obj.__dict__[self.func.__name__] = self.func(obj)\n",
      "                                               ^^^^^^^^^^^^^^\n",
      "  File \"/Library/Frameworks/Python.framework/Versions/3.11/lib/python3.11/site-packages/stack_data/core.py\", line 660, in executing_piece\n",
      "    return only(\n",
      "           ^^^^^\n",
      "  File \"/Library/Frameworks/Python.framework/Versions/3.11/lib/python3.11/site-packages/executing/executing.py\", line 116, in only\n",
      "    raise NotOneValueFound('Expected one value, found 0')\n",
      "executing.executing.NotOneValueFound: Expected one value, found 0\n"
     ]
    },
    {
     "data": {
      "text/plain": [
       "       Model  Accuracy\n",
       "0   Human_Sg     0.875\n",
       "1   Human_Pl     0.575\n",
       "2    Gpt2_Sg     0.775\n",
       "3    Gpt2_Pl     0.925\n",
       "4    Grnn_Sg     0.625\n",
       "5    Grnn_Pl     0.825\n",
       "6    Jrnn_Sg     0.700\n",
       "7    Jrnn_Pl     0.800\n",
       "8   Llama_Sg     0.850\n",
       "9   Llama_Pl     0.925\n",
       "10   Rnng_Sg     0.775\n",
       "11   Rnng_Pl     1.000"
      ]
     },
     "execution_count": 58,
     "metadata": {},
     "output_type": "execute_result"
    }
   ],
   "source": [
    "#### YOUR CODE HERE FOR CALCULATING HYPOTHESIS METRICS AND PLOTTING ####\n",
    "# import numpy as np\n",
    "\n",
    "# Extract and clean data for different models\n",
    "models = ['human', 'gpt2', 'grnn', 'jrnn', 'llama', 'rnng']\n",
    "dfs = {model: df[df['model'] == model].dropna() for model in models}\n",
    "\n",
    "def calculate_accuracy(data):\n",
    "    \"\"\"\n",
    "    Calculate accuracy.\n",
    "\n",
    "    Parameters:\n",
    "    model (pd.DataFrame): DataFrame containing columns\n",
    "                          'mismatch_plural', \n",
    "                          'match_plural',\n",
    "                          'mismatch_sing',\n",
    "                          'match_sing'.\n",
    "\n",
    "    Returns:\n",
    "    Accuracy for plural and singular mismatches.\n",
    "    \"\"\"\n",
    "    sg_accuracy = np.mean(data['mismatch_sing'] > data['match_sing'])\n",
    "    pl_accuracy = np.mean(data['mismatch_plural'] > data['match_plural'])\n",
    "\n",
    "    return sg_accuracy, pl_accuracy\n",
    "\n",
    "    # Calculate accuracy for each model\n",
    "accuracies = {model: calculate_accuracy(dfs[model]) for model in models}\n",
    "\n",
    "# Prepare data for plotting\n",
    "accuracy_data = {\n",
    "    'Model': [],\n",
    "    'Accuracy': []\n",
    "}\n",
    "\n",
    "for model in models:\n",
    "    sg_acc, pl_acc = accuracies[model]\n",
    "    accuracy_data['Model'].extend([f'{model.capitalize()}_Sg', f'{model.capitalize()}_Pl'])\n",
    "    accuracy_data['Accuracy'].extend([sg_acc, pl_acc])\n",
    "\n",
    "accuracy_df = pd.DataFrame(accuracy_data)\n",
    "\n",
    "# Return the final dataframe\n",
    "accuracy_df"
   ]
  },
  {
   "cell_type": "code",
   "execution_count": 60,
   "metadata": {},
   "outputs": [
    {
     "data": {
      "image/png": "[encoded data removed]",
      "text/plain": [
       "<Figure size 1400x800 with 1 Axes>"
      ]
     },
     "metadata": {},
     "output_type": "display_data"
    }
   ],
   "source": [
    "# barplot of the results, by model and by condition (plural vs. singular)\n",
    "### YOUR CODE HERE ###\n",
    "# Plot the results\n",
    "plt.figure(figsize=(14, 8))\n",
    "plt.bar(accuracy_data['Model'], \n",
    "        accuracy_data['Accuracy'], \n",
    "        color ='lightblue', \n",
    "        width = 0.2)\n",
    "plt.title('% Trials Supporting the Hypothesis')\n",
    "plt.ylabel('Accuracy')\n",
    "plt.xlabel('Model')\n",
    "plt.xticks(rotation=45, fontsize=10)  # Adjust x-ticks fontsize and rotation if needed\n",
    "plt.tight_layout()  # Adjust layout to prevent overlap\n",
    "plt.show()\n"
   ]
  },
  {
   "cell_type": "code",
   "execution_count": 61,
   "metadata": {},
   "outputs": [
    {
     "data": {
      "text/plain": [
       "(PearsonRResult(statistic=0.052925612402496346, pvalue=0.7456775488245941),\n",
       " PearsonRResult(statistic=0.13920285090358003, pvalue=0.39163243168344136))"
      ]
     },
     "execution_count": 61,
     "metadata": {},
     "output_type": "execute_result"
    }
   ],
   "source": [
    "# correlation analysis\n",
    "#### YOUR CODE HERE ###\n",
    "\n",
    "sg_correlation = pearsonr(human_sglist, llama_sglist)\n",
    "pl_correlation = pearsonr(human_pllist, llama_pllist )\n",
    "\n",
    "sg_correlation, pl_correlation"
   ]
  }
 ],
 "metadata": {
  "kernelspec": {
   "display_name": "Python 3 (ipykernel)",
   "language": "python",
   "name": "python3"
  },
  "language_info": {
   "codemirror_mode": {
    "name": "ipython",
    "version": 3
   },
   "file_extension": ".py",
   "mimetype": "text/x-python",
   "name": "python",
   "nbconvert_exporter": "python",
   "pygments_lexer": "ipython3",
   "version": "3.11.6"
  }
 },
 "nbformat": 4,
 "nbformat_minor": 4
}
